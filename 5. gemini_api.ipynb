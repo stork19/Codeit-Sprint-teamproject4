{
 "cells": [
  {
   "cell_type": "markdown",
   "metadata": {},
   "source": [
    "### Google gemini api 사용"
   ]
  },
  {
   "cell_type": "code",
   "execution_count": 2,
   "metadata": {},
   "outputs": [
    {
     "name": "stderr",
     "output_type": "stream",
     "text": [
      "c:\\Users\\seoho\\codeit_python\\python\\codeit\\Lib\\site-packages\\tqdm\\auto.py:21: TqdmWarning: IProgress not found. Please update jupyter and ipywidgets. See https://ipywidgets.readthedocs.io/en/stable/user_install.html\n",
      "  from .autonotebook import tqdm as notebook_tqdm\n"
     ]
    }
   ],
   "source": [
    "import pathlib\n",
    "import textwrap\n",
    "import json\n",
    "\n",
    "import google.generativeai as genai\n",
    "import pandas as pd\n",
    "\n",
    "from IPython.display import display\n",
    "from IPython.display import Markdown\n",
    "\n",
    "def to_markdown(text):\n",
    "  text = text.replace('•', '  *')\n",
    "  return Markdown(textwrap.indent(text, '> ', predicate=lambda _: True))"
   ]
  },
  {
   "cell_type": "code",
   "execution_count": 3,
   "metadata": {},
   "outputs": [],
   "source": [
    "with open(\"config/gemini_api.json\", \"r\") as f:\n",
    "    credentials = json.load(f)\n",
    "    google_api_key = credentials[\"google_gemini_api_key\"]\n",
    "\n",
    "GOOGLE_API_KEY = google_api_key"
   ]
  },
  {
   "cell_type": "code",
   "execution_count": 4,
   "metadata": {},
   "outputs": [],
   "source": [
    "genai.configure(api_key=GOOGLE_API_KEY)"
   ]
  },
  {
   "cell_type": "code",
   "execution_count": 5,
   "metadata": {},
   "outputs": [
    {
     "name": "stdout",
     "output_type": "stream",
     "text": [
      "models/gemini-1.0-pro-latest\n",
      "models/gemini-1.0-pro\n",
      "models/gemini-pro\n",
      "models/gemini-1.0-pro-001\n",
      "models/gemini-1.0-pro-vision-latest\n",
      "models/gemini-pro-vision\n",
      "models/gemini-1.5-pro-latest\n",
      "models/gemini-1.5-pro-001\n",
      "models/gemini-1.5-pro-002\n",
      "models/gemini-1.5-pro\n",
      "models/gemini-1.5-pro-exp-0801\n",
      "models/gemini-1.5-pro-exp-0827\n",
      "models/gemini-1.5-flash-latest\n",
      "models/gemini-1.5-flash-001\n",
      "models/gemini-1.5-flash-001-tuning\n",
      "models/gemini-1.5-flash\n",
      "models/gemini-1.5-flash-exp-0827\n",
      "models/gemini-1.5-flash-002\n",
      "models/gemini-1.5-flash-8b\n",
      "models/gemini-1.5-flash-8b-001\n",
      "models/gemini-1.5-flash-8b-latest\n",
      "models/gemini-1.5-flash-8b-exp-0827\n",
      "models/gemini-1.5-flash-8b-exp-0924\n",
      "models/gemini-2.0-flash-exp\n",
      "models/gemini-exp-1206\n",
      "models/gemini-exp-1121\n",
      "models/gemini-exp-1114\n",
      "models/gemini-2.0-flash-thinking-exp\n",
      "models/gemini-2.0-flash-thinking-exp-1219\n",
      "models/learnlm-1.5-pro-experimental\n"
     ]
    }
   ],
   "source": [
    "for m in genai.list_models():\n",
    "  if 'generateContent' in m.supported_generation_methods:\n",
    "    print(m.name)"
   ]
  },
  {
   "cell_type": "code",
   "execution_count": 6,
   "metadata": {},
   "outputs": [],
   "source": [
    "model = genai.GenerativeModel('gemini-1.5-pro')"
   ]
  },
  {
   "cell_type": "code",
   "execution_count": 7,
   "metadata": {},
   "outputs": [
    {
     "name": "stdout",
     "output_type": "stream",
     "text": [
      "CPU times: total: 0 ns\n",
      "Wall time: 15.8 s\n"
     ]
    }
   ],
   "source": [
    "%%time\n",
    "response = model.generate_content(\"2024년 12월인데, 요즘 트랜드와 잘맞는 청소년 친구들이 좋아할만한 질문 10개 만들어 줘\")"
   ]
  },
  {
   "cell_type": "code",
   "execution_count": 8,
   "metadata": {},
   "outputs": [
    {
     "data": {
      "text/markdown": [
       "> 2024년 12월, 청소년 트렌드를 반영한 질문 10가지입니다. 최신 트렌드를 최대한 반영하려 노력했지만, 트렌드는 빠르게 변하니 참고하여 활용하세요.\n",
       "> \n",
       "> 1. **숏폼 콘텐츠 제작 툴 중에서 요즘 가장 핫한 건 뭐야? 나도 좀 알려줘! (예: 틱톡, 유튜브 쇼츠, 인스타그램 릴스 등 특정 기능이나 편집 앱)** - 숏폼 콘텐츠 제작은 여전히 인기이며, 새로운 툴과 트렌드가 계속 등장합니다.\n",
       "> \n",
       "> 2. **메타버스나 VR/AR 체험 중에서 진짜 신기하고 재밌었던 거 있으면 추천 좀! 어떤 점이 좋았어?** - 메타버스 및 VR/AR 기술은 계속 발전하고 있으며, 청소년의 관심도 높습니다.\n",
       "> \n",
       "> 3. **요즘 인기 있는 게임 스트리머나 유튜버 누구 즐겨 봐? 콘텐츠 스타일이 어떤 점이 끌려?** - 게임 스트리밍 및 게임 유튜버는 여전히 청소년에게 큰 영향을 미칩니다.\n",
       "> \n",
       "> 4. **최근에 꽂힌 노래나 앨범 있어? 나한테도 좀 알려주라! 어떤 점이 좋아?** - 음악 트렌드는 빠르게 변하며, 청소년들은 새로운 음악을 공유하고 싶어합니다.\n",
       "> \n",
       "> 5. **가장 최근에 본 영화나 드라마 중에서 인상 깊었던 작품 뭐야? 스포 없이 간단하게 감상평 좀!** - 영화 및 드라마 콘텐츠는 꾸준히 소비되고 있으며, 청소년들은 감상을 공유하고 싶어합니다.\n",
       "> \n",
       "> 6. **요즘 즐겨 사용하는 소셜 미디어 플랫폼은 뭐야? 왜 그 플랫폼을 제일 많이 사용해?** -  소셜 미디어 플랫폼 트렌드는  변화하고 있으며, 청소년들이 어떤 플랫폼을 선호하는지 파악하는 것은 중요합니다.\n",
       "> \n",
       "> 7. **인공지능 챗봇이나 AI 관련 서비스 중에서 써본 거 있어? 어떤 점이 편리하고 좋았어?** - AI 기술은 급속도로 발전하고 있으며, 청소년들의 AI 활용 경험에 대한 질문은 흥미로운 주제입니다.\n",
       "> \n",
       "> 8. **최근에 관심 있는 사회 문제나 이슈는 뭐야?  네 생각은 어때?** - 사회 문제에 대한 청소년들의 관심을 파악하고, 그들의 생각을 들어보는 것은 중요합니다.\n",
       "> \n",
       "> 9. **요즘 유행하는 패션 스타일이나 아이템 뭐야? 너는 어떤 스타일을 좋아해?** - 패션 트렌드는 끊임없이 변화하며, 청소년들은 패션에 대한 관심이 높습니다.\n",
       "> \n",
       "> 10. **미래에 하고 싶은 직업이나 꿈이 뭐야? 그 꿈을 이루기 위해 어떤 노력을 하고 있어?** - 청소년들의 꿈과 미래에 대한 생각을 알아보는 것은 중요하며, 그들이 어떤 노력을 하고 있는지  이해하는 데 도움이 됩니다.\n"
      ],
      "text/plain": [
       "<IPython.core.display.Markdown object>"
      ]
     },
     "execution_count": 8,
     "metadata": {},
     "output_type": "execute_result"
    }
   ],
   "source": [
    "to_markdown(response.text)"
   ]
  },
  {
   "cell_type": "code",
   "execution_count": 9,
   "metadata": {},
   "outputs": [
    {
     "data": {
      "text/plain": [
       "[content {\n",
       "  parts {\n",
       "    text: \"2024년 12월, 청소년 트렌드를 반영한 질문 10가지입니다. 최신 트렌드를 최대한 반영하려 노력했지만, 트렌드는 빠르게 변하니 참고하여 활용하세요.\\n\\n1. **숏폼 콘텐츠 제작 툴 중에서 요즘 가장 핫한 건 뭐야? 나도 좀 알려줘! (예: 틱톡, 유튜브 쇼츠, 인스타그램 릴스 등 특정 기능이나 편집 앱)** - 숏폼 콘텐츠 제작은 여전히 인기이며, 새로운 툴과 트렌드가 계속 등장합니다.\\n\\n2. **메타버스나 VR/AR 체험 중에서 진짜 신기하고 재밌었던 거 있으면 추천 좀! 어떤 점이 좋았어?** - 메타버스 및 VR/AR 기술은 계속 발전하고 있으며, 청소년의 관심도 높습니다.\\n\\n3. **요즘 인기 있는 게임 스트리머나 유튜버 누구 즐겨 봐? 콘텐츠 스타일이 어떤 점이 끌려?** - 게임 스트리밍 및 게임 유튜버는 여전히 청소년에게 큰 영향을 미칩니다.\\n\\n4. **최근에 꽂힌 노래나 앨범 있어? 나한테도 좀 알려주라! 어떤 점이 좋아?** - 음악 트렌드는 빠르게 변하며, 청소년들은 새로운 음악을 공유하고 싶어합니다.\\n\\n5. **가장 최근에 본 영화나 드라마 중에서 인상 깊었던 작품 뭐야? 스포 없이 간단하게 감상평 좀!** - 영화 및 드라마 콘텐츠는 꾸준히 소비되고 있으며, 청소년들은 감상을 공유하고 싶어합니다.\\n\\n6. **요즘 즐겨 사용하는 소셜 미디어 플랫폼은 뭐야? 왜 그 플랫폼을 제일 많이 사용해?** -  소셜 미디어 플랫폼 트렌드는  변화하고 있으며, 청소년들이 어떤 플랫폼을 선호하는지 파악하는 것은 중요합니다.\\n\\n7. **인공지능 챗봇이나 AI 관련 서비스 중에서 써본 거 있어? 어떤 점이 편리하고 좋았어?** - AI 기술은 급속도로 발전하고 있으며, 청소년들의 AI 활용 경험에 대한 질문은 흥미로운 주제입니다.\\n\\n8. **최근에 관심 있는 사회 문제나 이슈는 뭐야?  네 생각은 어때?** - 사회 문제에 대한 청소년들의 관심을 파악하고, 그들의 생각을 들어보는 것은 중요합니다.\\n\\n9. **요즘 유행하는 패션 스타일이나 아이템 뭐야? 너는 어떤 스타일을 좋아해?** - 패션 트렌드는 끊임없이 변화하며, 청소년들은 패션에 대한 관심이 높습니다.\\n\\n10. **미래에 하고 싶은 직업이나 꿈이 뭐야? 그 꿈을 이루기 위해 어떤 노력을 하고 있어?** - 청소년들의 꿈과 미래에 대한 생각을 알아보는 것은 중요하며, 그들이 어떤 노력을 하고 있는지  이해하는 데 도움이 됩니다.\\n\"\n",
       "  }\n",
       "  role: \"model\"\n",
       "}\n",
       "finish_reason: STOP\n",
       "avg_logprobs: -0.15908800579016477\n",
       "]"
      ]
     },
     "execution_count": 9,
     "metadata": {},
     "output_type": "execute_result"
    }
   ],
   "source": [
    "response.candidates\n"
   ]
  },
  {
   "cell_type": "code",
   "execution_count": null,
   "metadata": {},
   "outputs": [],
   "source": [
    "df = pd.read_csv('data/question.csv')\n",
    "df.head()"
   ]
  },
  {
   "cell_type": "code",
   "execution_count": 23,
   "metadata": {},
   "outputs": [],
   "source": [
    "data = pd.read_csv('best_keyword_extraction_results.csv')"
   ]
  },
  {
   "cell_type": "code",
   "execution_count": 25,
   "metadata": {},
   "outputs": [
    {
     "data": {
      "text/html": [
       "<div>\n",
       "<style scoped>\n",
       "    .dataframe tbody tr th:only-of-type {\n",
       "        vertical-align: middle;\n",
       "    }\n",
       "\n",
       "    .dataframe tbody tr th {\n",
       "        vertical-align: top;\n",
       "    }\n",
       "\n",
       "    .dataframe thead th {\n",
       "        text-align: right;\n",
       "    }\n",
       "</style>\n",
       "<table border=\"1\" class=\"dataframe\">\n",
       "  <thead>\n",
       "    <tr style=\"text-align: right;\">\n",
       "      <th></th>\n",
       "      <th>Unnamed: 0</th>\n",
       "      <th>index</th>\n",
       "      <th>text</th>\n",
       "      <th>keywords_with_w2v</th>\n",
       "      <th>keywords_without_w2v</th>\n",
       "      <th>year_month</th>\n",
       "    </tr>\n",
       "  </thead>\n",
       "  <tbody>\n",
       "    <tr>\n",
       "      <th>0</th>\n",
       "      <td>0</td>\n",
       "      <td>0</td>\n",
       "      <td>모든 사람과 잘 지낼 것 같은 사람은</td>\n",
       "      <td>['사람과', '사람과', '사람과', '모든', '모든']</td>\n",
       "      <td>['것', '같은', '사람은', '사람', '모든']</td>\n",
       "      <td>2023-04</td>\n",
       "    </tr>\n",
       "    <tr>\n",
       "      <th>1</th>\n",
       "      <td>1</td>\n",
       "      <td>1</td>\n",
       "      <td>어떤 모임에서도 항상 리드를 할 것 같은 사람은</td>\n",
       "      <td>['항상', '항상', '것', '모임', '리드']</td>\n",
       "      <td>['모임에서도', '것', '리드', '같은', '사람은']</td>\n",
       "      <td>2023-04</td>\n",
       "    </tr>\n",
       "    <tr>\n",
       "      <th>2</th>\n",
       "      <td>2</td>\n",
       "      <td>2</td>\n",
       "      <td>수능을 가장 잘 볼거 같은 사람은</td>\n",
       "      <td>['가장', '가장', '사람', '수능']</td>\n",
       "      <td>['수능을', '같은', '볼거', '사람은', '수능']</td>\n",
       "      <td>2023-04</td>\n",
       "    </tr>\n",
       "    <tr>\n",
       "      <th>3</th>\n",
       "      <td>3</td>\n",
       "      <td>3</td>\n",
       "      <td>미워할 수 없는 친구는</td>\n",
       "      <td>['수', '수', '친구']</td>\n",
       "      <td>['미워할', '수', '없는', '친구는', '친구']</td>\n",
       "      <td>2023-04</td>\n",
       "    </tr>\n",
       "    <tr>\n",
       "      <th>4</th>\n",
       "      <td>4</td>\n",
       "      <td>4</td>\n",
       "      <td>10년 뒤에 가장 돈을 많이 벌었을 것 같은 사람은</td>\n",
       "      <td>['가장', '가장', '것', '것', '사람']</td>\n",
       "      <td>['뒤', '것', '돈을', '10년', '같은']</td>\n",
       "      <td>2023-04</td>\n",
       "    </tr>\n",
       "  </tbody>\n",
       "</table>\n",
       "</div>"
      ],
      "text/plain": [
       "   Unnamed: 0  index                          text  \\\n",
       "0           0      0          모든 사람과 잘 지낼 것 같은 사람은   \n",
       "1           1      1    어떤 모임에서도 항상 리드를 할 것 같은 사람은   \n",
       "2           2      2            수능을 가장 잘 볼거 같은 사람은   \n",
       "3           3      3                  미워할 수 없는 친구는   \n",
       "4           4      4  10년 뒤에 가장 돈을 많이 벌었을 것 같은 사람은   \n",
       "\n",
       "                   keywords_with_w2v               keywords_without_w2v  \\\n",
       "0  ['사람과', '사람과', '사람과', '모든', '모든']     ['것', '같은', '사람은', '사람', '모든']   \n",
       "1      ['항상', '항상', '것', '모임', '리드']  ['모임에서도', '것', '리드', '같은', '사람은']   \n",
       "2           ['가장', '가장', '사람', '수능']   ['수능을', '같은', '볼거', '사람은', '수능']   \n",
       "3                   ['수', '수', '친구']    ['미워할', '수', '없는', '친구는', '친구']   \n",
       "4       ['가장', '가장', '것', '것', '사람']      ['뒤', '것', '돈을', '10년', '같은']   \n",
       "\n",
       "  year_month  \n",
       "0    2023-04  \n",
       "1    2023-04  \n",
       "2    2023-04  \n",
       "3    2023-04  \n",
       "4    2023-04  "
      ]
     },
     "execution_count": 25,
     "metadata": {},
     "output_type": "execute_result"
    }
   ],
   "source": [
    "data.head()"
   ]
  },
  {
   "cell_type": "code",
   "execution_count": null,
   "metadata": {},
   "outputs": [],
   "source": [
    "best_question = []\n",
    "for i in range(14):\n",
    "    a = data[10*i:10*(i+1)]\n",
    "    best_question.append(a)\n",
    "    print(a)"
   ]
  },
  {
   "cell_type": "code",
   "execution_count": 17,
   "metadata": {},
   "outputs": [
    {
     "name": "stdout",
     "output_type": "stream",
     "text": [
      "CPU times: total: 31.2 ms\n",
      "Wall time: 12.6 s\n"
     ]
    }
   ],
   "source": [
    "%%time\n",
    "response = model.generate_content(f\"청소년 친구들이 좋아할만한 질문을 {a.keywords_with_w2v}의 단어들을 이용해서 만들어 줘\")"
   ]
  },
  {
   "cell_type": "code",
   "execution_count": 18,
   "metadata": {},
   "outputs": [
    {
     "data": {
      "text/markdown": [
       "> 주어진 단어들을 사용하여 청소년들이 좋아할 만한 질문들을 만들어 보았습니다.  다양한 질문 유형을 섞어 흥미를 유발하도록 노력했습니다.\n",
       "> \n",
       "> **밸런스 게임/밸런스 질문**\n",
       "> \n",
       "> * 가장 장난꾸러기인 친구 vs 가장 웃긴 친구, 누구랑 짝꿍이 되고 싶어?\n",
       "> * 제일 웃긴 것 vs 제일 신기한 것, 둘 중 하나만 볼 수 있다면?\n",
       "> * 가장 맑은 날 바닷가 vs 가장 맑은 날 산, 어디로 놀러 가고 싶어?\n",
       "> * 철벽 vs 웃음, 나의 이미지는?\n",
       "> * 발가락으로 피아노 치기 vs 발가락으로 그림 그리기, 둘 중 하나만 가능하다면?\n",
       "> \n",
       "> **상상력 자극 질문**\n",
       "> \n",
       "> * 가장 친한 친구에게 줄 수 있는 가장 특별한 선물은 뭘까?\n",
       "> * 사람의 목소리가 동물 소리로 바뀐다면 어떤 동물일 것 같아? (자신/친구)\n",
       "> * 만약 내가 성인이 된다면 제일 먼저 하고 싶은 것은?\n",
       "> * 발가락이 말을 할 수 있다면, 무슨 이야기를 할 것 같아?\n",
       "> \n",
       "> **일상/친구 관련 질문**\n",
       "> \n",
       "> * 가장 기억에 남는 장난은 무엇이야?\n",
       "> * 나의 가장 큰 장점은 무엇일까?\n",
       "> * 친구의 가장 웃긴 순간은 언제였어?\n",
       "> * 가장 친한 사람은 누구야? 그리고 그 이유는?\n",
       "> * 가장 좋아하는 사람(연예인, 셀럽 등)은 누구야?\n",
       "> \n",
       "> **심리 테스트 느낌 질문 (재미)**\n",
       "> \n",
       "> * '김'이라는 단어를 보고 가장 먼저 떠오르는 사람은?\n",
       "> * 가장 좋아하는 색깔은 무엇이며, 그 이유는? (색깔 심리와 연결)\n",
       "> \n",
       "> \n",
       "> **추가 팁**\n",
       "> \n",
       "> * 위 질문들을 변형하거나 더 구체적으로 만들어 사용할 수 있습니다.\n",
       "> * 청소년들의 최신 유행이나 관심사를 반영하여 질문을 만들면 더욱 흥미를 유발할 수 있습니다.\n",
       "> * 질문에 대한 답변을 공유하고 이야기를 나누는 활동을 추가하면 더욱 재미있습니다.\n"
      ],
      "text/plain": [
       "<IPython.core.display.Markdown object>"
      ]
     },
     "execution_count": 18,
     "metadata": {},
     "output_type": "execute_result"
    }
   ],
   "source": [
    "to_markdown(response.text)"
   ]
  }
 ],
 "metadata": {
  "kernelspec": {
   "display_name": "codeit",
   "language": "python",
   "name": "python3"
  },
  "language_info": {
   "codemirror_mode": {
    "name": "ipython",
    "version": 3
   },
   "file_extension": ".py",
   "mimetype": "text/x-python",
   "name": "python",
   "nbconvert_exporter": "python",
   "pygments_lexer": "ipython3",
   "version": "3.12.4"
  }
 },
 "nbformat": 4,
 "nbformat_minor": 2
}
